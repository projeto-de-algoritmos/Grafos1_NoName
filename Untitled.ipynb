{
 "cells": [
  {
   "cell_type": "code",
   "execution_count": 18,
   "metadata": {},
   "outputs": [],
   "source": [
    "class Graph:\n",
    "    def __init__(self, nodes):\n",
    "        self.nodes = nodes\n",
    "        self.adj = [list()]*nodes\n",
    "        self.visited = [0]*nodes\n",
    "    \n",
    "    def add_edge(self, v, u):\n",
    "        self.adj[u].append(v)\n",
    "        self.adj[v].append(u)\n",
    "        \n",
    "    def dfs(self, node):\n",
    "        self.visited[node] = 1\n",
    "        \n",
    "        for to in self.adj[node]:\n",
    "            if self.visited[to] == 0:\n",
    "                self.dfs(to)\n",
    "        \n",
    "        \n",
    "    def bfs(self, node):\n",
    "        q = list()\n",
    "        q.append(node)\n",
    "        \n",
    "        while (len(q) > 0):\n",
    "            u = q[0]\n",
    "            q.pop(0)\n",
    "            \n",
    "            self.visited[u] = 1\n",
    "            \n",
    "            for to in self.adj[u]:\n",
    "                if self.visited[to] == 0:\n",
    "                    q.append(to)\n",
    "        \n",
    "    def clear_vis(self):\n",
    "        for i in range(len(self.visited)):\n",
    "            self.visited[i] = 0\n",
    "        \n",
    "    def play(self):\n",
    "        print(len(self.visited))\n",
    "        self.time_dfs = 0 \n",
    "        self.clear_vis()\n",
    "        for i in range(self.nodes):\n",
    "            if self.visited[i] == 0:\n",
    "                self.dfs(i)\n",
    "        \n",
    "        self.time_bfs = 0\n",
    "        self.clear_vis()\n",
    "        for i in range(self.nodes):\n",
    "            if self.visited[i] == 0:\n",
    "                self.bfs(i)\n",
    "        \n",
    "        return self.time_dfs, self.time_bfs"
   ]
  },
  {
   "cell_type": "code",
   "execution_count": 19,
   "metadata": {},
   "outputs": [
    {
     "name": "stdout",
     "output_type": "stream",
     "text": [
      "2\n"
     ]
    },
    {
     "data": {
      "text/plain": [
       "(0, 0)"
      ]
     },
     "execution_count": 19,
     "metadata": {},
     "output_type": "execute_result"
    }
   ],
   "source": [
    "test = Graph(2)\n",
    "test.play()"
   ]
  }
 ],
 "metadata": {
  "kernelspec": {
   "display_name": "Python 3",
   "language": "python",
   "name": "python3"
  },
  "language_info": {
   "codemirror_mode": {
    "name": "ipython",
    "version": 3
   },
   "file_extension": ".py",
   "mimetype": "text/x-python",
   "name": "python",
   "nbconvert_exporter": "python",
   "pygments_lexer": "ipython3",
   "version": "3.8.5"
  }
 },
 "nbformat": 4,
 "nbformat_minor": 4
}
