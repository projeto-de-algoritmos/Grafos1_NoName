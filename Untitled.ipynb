{
 "cells": [
  {
   "cell_type": "code",
   "execution_count": 11,
   "metadata": {},
   "outputs": [],
   "source": [
    "import time \n",
    "from collections import deque"
   ]
  },
  {
   "cell_type": "code",
   "execution_count": 12,
   "metadata": {},
   "outputs": [],
   "source": [
    "class Graph:\n",
    "    def __init__(self, nodes):\n",
    "        self.nodes = nodes\n",
    "        self.adj = [list()]*nodes\n",
    "        self.visited = [0]*nodes\n",
    "    \n",
    "    def add_edge(self, v, u):\n",
    "        self.adj[u].append(v)\n",
    "        self.adj[v].append(u)\n",
    "        \n",
    "    def dfs(self, node):\n",
    "        self.visited[node] = 1\n",
    "        \n",
    "        for to in self.adj[node]:\n",
    "         \n",
    "            if self.visited[to] == 0:\n",
    "                self.dfs(to)\n",
    "        \n",
    "        \n",
    "    def bfs(self, node):\n",
    "        q = deque()\n",
    "        q.append(node)\n",
    "        self.visited[node]=1\n",
    "        \n",
    "        while (len(q) > 0):\n",
    "          \n",
    "            u = q.popleft()\n",
    "              \n",
    "            for to in self.adj[u]:\n",
    "                if self.visited[to] == 0:\n",
    "                    self.visited[to] = 1\n",
    "                    q.append(to)\n",
    "        \n",
    "    def clear_vis(self):\n",
    "        for i in range(len(self.visited)):\n",
    "            self.visited[i] = 0\n",
    "        \n",
    "    def play(self):\n",
    "      \n",
    "        self.time_dfs = time.time() \n",
    "        self.clear_vis()\n",
    "        for i in range(self.nodes):\n",
    "            if self.visited[i] == 0:\n",
    "                self.dfs(i)\n",
    "        \n",
    "        self.time_dfs = time.time() - self.time_dfs\n",
    "        \n",
    "        self.time_bfs = time.time()\n",
    "        self.clear_vis()\n",
    "        for i in range(self.nodes):\n",
    "            if self.visited[i] == 0:\n",
    "                self.bfs(i)\n",
    "        \n",
    "        self.time_bfs = time.time() - self.time_bfs\n",
    "        \n",
    "        return self.time_dfs, self.time_bfs\n",
    "    \n",
    "    \n",
    "    "
   ]
  },
  {
   "cell_type": "code",
   "execution_count": 45,
   "metadata": {},
   "outputs": [
    {
     "name": "stdout",
     "output_type": "stream",
     "text": [
      "Digite a quantidade de Vertices e Arestas respectivamente\n",
      "4 5\n",
      "Nome do Jogador 1Thiago\n",
      "Nome do Jogador 2 João\n"
     ]
    }
   ],
   "source": [
    "print(\"Digite a quantidade de Vertices e Arestas respectivamente\")\n",
    "n,m = map(int,input().split())\n",
    "\n",
    "p1 = input(\"Nome do Jogador 1\")\n",
    "\n",
    "p2 = input(\"Nome do Jogador 2 \")\n",
    "\n",
    "bol1 = 0\n",
    "\n",
    "bol2 = 0\n",
    "\n"
   ]
  },
  {
   "cell_type": "code",
   "execution_count": 49,
   "metadata": {},
   "outputs": [],
   "source": [
    "def player1(p1,n,m):\n",
    "    \n",
    "    \n",
    "    print(p1,\"Monte o seu Grafo\")\n",
    "\n",
    "    test = Graph(n)\n",
    "\n",
    "    for i in range(m):\n",
    "        t,j = map(int,input().split())\n",
    "        test.add_edge(t,j)\n",
    "\n",
    "    a = 0\n",
    "    b = 0\n",
    "\n",
    "    for i in range(1000):\n",
    "        tmp = test.play()\n",
    "        a += tmp[0] \n",
    "        b += tmp[1]\n",
    "\n",
    "\n",
    "    print(p1,\" decida se 0 para usar o bfs e 1 para usar o dfs\")\n",
    "\n",
    "    decida = input()\n",
    "    bol1 = 0\n",
    "\n",
    "    if(decida):\n",
    "        bol1 = b\n",
    "\n",
    "    else:\n",
    "        bol1 = a\n",
    "        \n",
    "    return bol1    "
   ]
  },
  {
   "cell_type": "code",
   "execution_count": 50,
   "metadata": {},
   "outputs": [
    {
     "name": "stdout",
     "output_type": "stream",
     "text": [
      "Thiago Monte o seu Grafo\n",
      "0 1\n",
      "1 2\n",
      "2 1\n",
      "2 3\n",
      "3 0\n",
      "Thiago  decida se 0 para usar o bfs e 1 para usar o dfs\n",
      "0\n"
     ]
    }
   ],
   "source": [
    "retorno = player1(p1,n,m)"
   ]
  },
  {
   "cell_type": "code",
   "execution_count": 51,
   "metadata": {},
   "outputs": [],
   "source": [
    "def player2(p1,p2,n,m,bol1):\n",
    "   \n",
    "    \n",
    "    print(p2,\"Monte o seu Grafo\")\n",
    "    \n",
    "    test = Graph(n)\n",
    "\n",
    "    for i in range(m):\n",
    "        t,j = map(int,input().split())\n",
    "        test.add_edge(t,j)\n",
    "\n",
    "\n",
    "    a = 0\n",
    "    b = 0\n",
    "\n",
    "    for i in range(1000):\n",
    "        tmp = test.play()\n",
    "        a += tmp[0] \n",
    "        b += tmp[1]\n",
    "\n",
    "\n",
    "    print(p2,\" decida se 0 para usar o bfs e 1 para usar o dfs\")\n",
    "\n",
    "    decida = input()\n",
    "\n",
    "    tmp1 = 0\n",
    "\n",
    "    if(decida):\n",
    "        tmp1 = b\n",
    "\n",
    "    else:\n",
    "        tmp1 = a\n",
    "        \n",
    "    if(tmp1 > bol1):\n",
    "        print(p1,\"Venceu!!\")\n",
    "        print(bol1,\"Com esse tempo\")      \n",
    "    \n",
    "    else:\n",
    "        print(p2,\"Venceu!!\")\n",
    "        print(tmp1,\"Com esse tempo\") "
   ]
  },
  {
   "cell_type": "code",
   "execution_count": 52,
   "metadata": {},
   "outputs": [
    {
     "name": "stdout",
     "output_type": "stream",
     "text": [
      "João Monte o seu Grafo\n",
      "0 1\n",
      "1 2\n",
      "2 3\n",
      "3 1\n",
      "2 1\n",
      "João  decida se 0 para usar o bfs e 1 para usar o dfs\n",
      "0\n",
      "Thiago Venceu!!\n",
      "0.01495504379272461 Com esse tempo\n"
     ]
    }
   ],
   "source": [
    "player2(p1,p2,n,m,retorno)"
   ]
  },
  {
   "cell_type": "code",
   "execution_count": 84,
   "metadata": {},
   "outputs": [
    {
     "name": "stdout",
     "output_type": "stream",
     "text": [
      "10 9\n",
      "0 1\n",
      "1 2\n",
      "2 3\n",
      "3 4\n",
      "4 5\n",
      "0 6\n",
      "6 7\n",
      "7 8\n",
      "8 9\n",
      "0.14028417050230138\n",
      "0.029703140258789062 0.03939676284790039\n"
     ]
    }
   ],
   "source": [
    "n,m = map(int,input().split())\n",
    "\n",
    "test = Graph(n)\n",
    "\n",
    "for i in range(m):\n",
    "    t,j = map(int,input().split())\n",
    "    test.add_edge(t,j)\n",
    "\n",
    "\n",
    "a = 0\n",
    "b = 0\n",
    "\n",
    "for i in range(1000):\n",
    "    tmp = test.play()\n",
    "    a += tmp[0] \n",
    "    b += tmp[1]\n",
    "\n",
    "    \n",
    "print((b - a) / (b + a))\n",
    "\n",
    "print(a,b)"
   ]
  },
  {
   "cell_type": "code",
   "execution_count": 83,
   "metadata": {},
   "outputs": [
    {
     "name": "stdout",
     "output_type": "stream",
     "text": [
      "0.0013773441314697266 0.0011746883392333984\n",
      "CPU times: user 3.21 ms, sys: 0 ns, total: 3.21 ms\n",
      "Wall time: 2.95 ms\n"
     ]
    }
   ],
   "source": [
    "%%time\n",
    "test = Graph(15)\n",
    "test.add_edge(0,1)\n",
    "test.add_edge(0,2)\n",
    "test.add_edge(1,4)\n",
    "test.add_edge(1,3)\n",
    "test.add_edge(2,5)\n",
    "test.add_edge(2,6)\n",
    "test.add_edge(4,7)\n",
    "test.add_edge(4,8)\n",
    "test.add_edge(3,9)\n",
    "test.add_edge(3,10)\n",
    "test.add_edge(5,11)\n",
    "test.add_edge(5,12)\n",
    "test.add_edge(6,13)\n",
    "test.add_edge(6,14)\n",
    "\n",
    "a = 0\n",
    "b = 0\n",
    "\n",
    "for i in range(10):\n",
    "    tmp = test.play()\n",
    "    a += tmp[0] \n",
    "    b += tmp[1]\n",
    "\n",
    "    \n",
    "print(a,b)"
   ]
  }
 ],
 "metadata": {
  "kernelspec": {
   "display_name": "Python 3",
   "language": "python",
   "name": "python3"
  },
  "language_info": {
   "codemirror_mode": {
    "name": "ipython",
    "version": 3
   },
   "file_extension": ".py",
   "mimetype": "text/x-python",
   "name": "python",
   "nbconvert_exporter": "python",
   "pygments_lexer": "ipython3",
   "version": "3.5.2"
  }
 },
 "nbformat": 4,
 "nbformat_minor": 4
}
